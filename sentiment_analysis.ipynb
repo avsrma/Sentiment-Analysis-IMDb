{
 "cells": [
  {
   "cell_type": "markdown",
   "metadata": {
    "colab_type": "text",
    "id": "Ub3Au7432I33"
   },
   "source": [
    "# Exercise 5 (NLP): Very Deep Learning\n",
    "**Natural language processing (NLP)** is the ability of a computer program to understand human language as it is spoken. It involves a pipeline of steps and by the end of the exercise, we would be able to classify the sentiment of a given review as POSITIVE or NEGATIVE."
   ]
  },
  {
   "cell_type": "code",
   "execution_count": null,
   "metadata": {
    "colab": {},
    "colab_type": "code",
    "id": "p6H8PTZbwxtW"
   },
   "outputs": [],
   "source": [
    "import numpy as np\n",
    "\n",
    "# read data from reviews and labels file.\n",
    "with open('data/reviews.txt', 'r') as f:\n",
    "    reviews_ = f.readlines()\n",
    "with open('data/labels.txt', 'r') as f:\n",
    "    \n",
    "    labels = f.readlines()"
   ]
  },
  {
   "cell_type": "code",
   "execution_count": null,
   "metadata": {
    "colab": {
     "base_uri": "https://localhost:8080/",
     "height": 185
    },
    "colab_type": "code",
    "id": "qSTsNpUVzzR7",
    "outputId": "854bf35f-c1f1-47e9-addf-5df49cba52c4"
   },
   "outputs": [
    {
     "name": "stdout",
     "output_type": "stream",
     "text": [
      "positive\n",
      "\t: bromwell high is a cartoon comedy . it ran at the same time as some other programs about school life...\n",
      "negative\n",
      "\t: story of a man who has unnatural feelings for a pig . starts out with a opening scene that is a terr...\n",
      "positive\n",
      "\t: homelessness  or houselessness as george carlin stated  has been an issue for years but never a plan...\n",
      "negative\n",
      "\t: airport    starts as a brand new luxury    plane is loaded up with valuable paintings  such belongin...\n",
      "positive\n",
      "\t: brilliant over  acting by lesley ann warren . best dramatic hobo lady i have ever seen  and love sce...\n"
     ]
    }
   ],
   "source": [
    "# One of the most important task is to visualize data before starting with any ML task. \n",
    "for i in range(5):\n",
    "    print(labels[i] + \"\\t: \" + reviews_[i][:100] + \"...\")"
   ]
  },
  {
   "cell_type": "markdown",
   "metadata": {
    "colab_type": "text",
    "id": "ja-ODNlZ3F4r"
   },
   "source": [
    "We can see there are a lot of punctuation marks like fullstop(.), comma(,), new line (\\n) and so on and we need to remove it. \n",
    "\n",
    "Here is a list of all the punctuation marks that needs to be removed \n",
    "```\n",
    "(!\"#$%&\\'()*+,-./:;<=>?@[\\\\]^_`{|}~)\n",
    "```\n"
   ]
  },
  {
   "cell_type": "markdown",
   "metadata": {
    "colab_type": "text",
    "id": "Osf05-7c3OWS"
   },
   "source": [
    "## Task 1: Remove all the punctuation marks from the reviews.\n",
    "Many ways of doing it: Regex, Spacy, import string from punctuation."
   ]
  },
  {
   "cell_type": "code",
   "execution_count": null,
   "metadata": {
    "colab": {},
    "colab_type": "code",
    "id": "Uv9Deysf3E1v"
   },
   "outputs": [],
   "source": [
    "# Make everything lower case to make the whole dataset even. \n",
    "reviews = ''.join(reviews_).lower()\n",
    "\n",
    "# complete the function below to remove punctuations and save it in no_punct_text\n",
    "from string import punctuation\n",
    "def text_without_punct(reviews):\n",
    "    no_punct_text = ''.join([c for c in reviews if c not in punctuation])\n",
    "    return no_punct_text\n",
    "\n",
    "no_punct_text = text_without_punct(reviews)\n",
    "reviews_split = no_punct_text.split('\\n')\n",
    "\n",
    "# split the formatted no_punct_text into words\n",
    "def split_in_words(reviews_split):\n",
    "    reviews_split = ' '.join(reviews_split)\n",
    "    return reviews_split.split()\n",
    "\n",
    "words = split_in_words(reviews_split)"
   ]
  },
  {
   "cell_type": "code",
   "execution_count": null,
   "metadata": {
    "colab": {
     "base_uri": "https://localhost:8080/",
     "height": 67
    },
    "colab_type": "code",
    "id": "_IS107ZR4J89",
    "outputId": "b540d69a-85c9-4928-e7c0-d5d2301e82c9"
   },
   "outputs": [
    {
     "name": "stdout",
     "output_type": "stream",
     "text": [
      "['bromwell', 'high', 'is', 'a', 'cartoon', 'comedy', 'it', 'ran', 'at', 'the']\n",
      "6020196\n",
      "74072\n"
     ]
    }
   ],
   "source": [
    "# once you are done print the ten words that should yield the following output\n",
    "print(words[:10])\n",
    "\n",
    "# print the total length of the words\n",
    "print(len(words))\n",
    "\n",
    "# Total number of unique words\n",
    "print(len(set(words)))"
   ]
  },
  {
   "cell_type": "markdown",
   "metadata": {
    "colab_type": "text",
    "id": "ke1Vn3as6w5x"
   },
   "source": [
    "The next step is to create a vocabulary. This way every word is mapped to an integer number.\n",
    "```\n",
    "Example: 1: hello, 2: I, 3: am, 4: Robo and so on...\n",
    "```\n"
   ]
  },
  {
   "cell_type": "code",
   "execution_count": null,
   "metadata": {
    "colab": {
     "base_uri": "https://localhost:8080/",
     "height": 50
    },
    "colab_type": "code",
    "id": "zVNbPuPnwyZU",
    "outputId": "0fe56a94-8f77-436f-8910-db8864a5081b"
   },
   "outputs": [
    {
     "name": "stdout",
     "output_type": "stream",
     "text": [
      "1658\n",
      "9308\n"
     ]
    }
   ],
   "source": [
    "# Lets create a vocab out of it\n",
    "from collections import Counter\n",
    "\n",
    "## Let's keep a count of all the words and let's see how many words are there. \n",
    "def word_count(words):\n",
    "    return Counter(words)\n",
    "\n",
    "counts = word_count(words)\n",
    "\n",
    "# If you did everything correct, this is what you should get as output. \n",
    "print(counts['wonderful'])\n",
    "print(counts['bad'])"
   ]
  },
  {
   "cell_type": "markdown",
   "metadata": {
    "colab_type": "text",
    "id": "e9dDkSzi7QYB"
   },
   "source": [
    "## Task 2: Word to Integer and Integer to word\n",
    "Map every word to an integer value and vice-versa. \n"
   ]
  },
  {
   "cell_type": "code",
   "execution_count": null,
   "metadata": {
    "colab": {
     "base_uri": "https://localhost:8080/",
     "height": 50
    },
    "colab_type": "code",
    "id": "AAW5MLwXwyb7",
    "outputId": "cf05ac3b-5545-456c-b7cc-6e92ed1208c3"
   },
   "outputs": [
    {
     "name": "stdout",
     "output_type": "stream",
     "text": [
      "74072\n"
     ]
    },
    {
     "data": {
      "text/plain": [
       "('and', 164107)"
      ]
     },
     "execution_count": 6,
     "metadata": {
      "tags": []
     },
     "output_type": "execute_result"
    }
   ],
   "source": [
    "# define a vocabulary for the words\n",
    "def vocabulary(counts):\n",
    "    return counts.most_common(len(words))\n",
    "\n",
    "vocab = vocabulary(counts)\n",
    "print(len(vocab))\n",
    "vocab[1]"
   ]
  },
  {
   "cell_type": "code",
   "execution_count": null,
   "metadata": {
    "colab": {
     "base_uri": "https://localhost:8080/",
     "height": 50
    },
    "colab_type": "code",
    "id": "EO2Db7F2wyef",
    "outputId": "734e4b4b-2e24-4703-96f6-c6bb6901c8ee"
   },
   "outputs": [
    {
     "name": "stdout",
     "output_type": "stream",
     "text": [
      "74072\n"
     ]
    },
    {
     "data": {
      "text/plain": [
       "2"
      ]
     },
     "execution_count": 7,
     "metadata": {
      "tags": []
     },
     "output_type": "execute_result"
    }
   ],
   "source": [
    "# map each vocab word to an integer. Also, start the indexing with 1 as we will use \n",
    "# '0' for padding and we dont want to mix the two.\n",
    "def vocabulary_to_integer(vocab):\n",
    "    vocab_to_int = {w:i+1 for i, (w,c) in enumerate(vocab)}\n",
    "    return vocab_to_int\n",
    "\n",
    "vocab_to_int = vocabulary_to_integer(vocab)\n",
    "\n",
    "# verify if the length is same and if 'and' is mapped to the correct integer value.\n",
    "print(len(vocab_to_int))\n",
    "vocab_to_int['and']"
   ]
  },
  {
   "cell_type": "code",
   "execution_count": null,
   "metadata": {
    "colab": {},
    "colab_type": "code",
    "id": "IHiJlTVF8JOL"
   },
   "outputs": [],
   "source": [
    "# Let's see what positve words in positive reviews we have and what we have in negative reviews. \n",
    "\n",
    "positive_counts = Counter()\n",
    "negative_counts = Counter()\n",
    "\n",
    "for i in range(len(reviews_)):\n",
    "    if(labels[i] == 'positive\\n'):\n",
    "        for word in reviews_[i].split(\" \"):\n",
    "            positive_counts[word] += 1\n",
    "    else:\n",
    "        for word in reviews_[i].split(\" \"):\n",
    "            negative_counts[word] += 1"
   ]
  },
  {
   "cell_type": "code",
   "execution_count": null,
   "metadata": {
    "colab": {
     "base_uri": "https://localhost:8080/",
     "height": 185
    },
    "colab_type": "code",
    "id": "sqek5pxQ8JQw",
    "outputId": "f34af0ff-cc89-4ccb-b47e-812edaa05874"
   },
   "outputs": [
    {
     "data": {
      "text/plain": [
       "['positive\\n',\n",
       " 'negative\\n',\n",
       " 'positive\\n',\n",
       " 'negative\\n',\n",
       " 'positive\\n',\n",
       " 'negative\\n',\n",
       " 'positive\\n',\n",
       " 'negative\\n',\n",
       " 'positive\\n',\n",
       " 'negative\\n']"
      ]
     },
     "execution_count": 9,
     "metadata": {
      "tags": []
     },
     "output_type": "execute_result"
    }
   ],
   "source": [
    "labels[:10]"
   ]
  },
  {
   "cell_type": "code",
   "execution_count": null,
   "metadata": {
    "colab": {
     "base_uri": "https://localhost:8080/",
     "height": 185
    },
    "colab_type": "code",
    "id": "IpKX2kwr8JTB",
    "outputId": "019aafc2-dbd7-475c-edfa-2709889a417a"
   },
   "outputs": [
    {
     "data": {
      "text/plain": [
       "[('', 537968),\n",
       " ('the', 173324),\n",
       " ('.', 159654),\n",
       " ('and', 89722),\n",
       " ('a', 83688),\n",
       " ('of', 76855),\n",
       " ('to', 66746),\n",
       " ('is', 57245),\n",
       " ('in', 50215),\n",
       " ('br', 49235)]"
      ]
     },
     "execution_count": 10,
     "metadata": {
      "tags": []
     },
     "output_type": "execute_result"
    }
   ],
   "source": [
    "positive_counts.most_common()[:10]"
   ]
  },
  {
   "cell_type": "code",
   "execution_count": null,
   "metadata": {
    "colab": {
     "base_uri": "https://localhost:8080/",
     "height": 185
    },
    "colab_type": "code",
    "id": "RVG8r4J69w_F",
    "outputId": "f4a30d86-7ada-4868-f932-89f36d2fd7f7"
   },
   "outputs": [
    {
     "data": {
      "text/plain": [
       "[('', 548962),\n",
       " ('.', 167538),\n",
       " ('the', 163389),\n",
       " ('a', 79321),\n",
       " ('and', 74385),\n",
       " ('of', 69009),\n",
       " ('to', 68974),\n",
       " ('br', 52637),\n",
       " ('is', 50083),\n",
       " ('it', 48327)]"
      ]
     },
     "execution_count": 11,
     "metadata": {
      "tags": []
     },
     "output_type": "execute_result"
    }
   ],
   "source": [
    "negative_counts.most_common()[:10]"
   ]
  },
  {
   "cell_type": "markdown",
   "metadata": {
    "colab_type": "text",
    "id": "xlIdtaMg98dk"
   },
   "source": [
    "The above is just to show the most common words in the positive and negative sentences. However, there are a lot of unnecessary words like `the`, `a`, `was`, and so on. Can you find a way to show the relevant words and not these words? \n",
    "\n",
    "```\n",
    "Hint: Stop Words removal or normalizing each term.\n",
    "```"
   ]
  },
  {
   "cell_type": "code",
   "execution_count": null,
   "metadata": {
    "colab": {
     "base_uri": "https://localhost:8080/",
     "height": 34
    },
    "colab_type": "code",
    "id": "3uPsBHIj9xZC",
    "outputId": "dd0de1df-3416-4722-ad6b-f26e8f3d43b1"
   },
   "outputs": [
    {
     "data": {
      "text/plain": [
       "['bromwell', 'high', 'is', 'a', 'cartoon', 'comedy', 'it', 'ran', 'at', 'the']"
      ]
     },
     "execution_count": 12,
     "metadata": {
      "tags": []
     },
     "output_type": "execute_result"
    }
   ],
   "source": [
    "words[:10]"
   ]
  },
  {
   "cell_type": "code",
   "execution_count": null,
   "metadata": {
    "colab": {
     "base_uri": "https://localhost:8080/",
     "height": 34
    },
    "colab_type": "code",
    "id": "8SK-51CT9xcC",
    "outputId": "c1a2cc3d-deb1-4f0f-ecc6-7be9185b4daa"
   },
   "outputs": [
    {
     "data": {
      "text/plain": [
       "[21025, 308, 6, 3, 1050, 207, 8, 2138, 32, 1]"
      ]
     },
     "execution_count": 13,
     "metadata": {
      "tags": []
     },
     "output_type": "execute_result"
    }
   ],
   "source": [
    "[vocab_to_int[word] for word in words[:10]]"
   ]
  },
  {
   "cell_type": "code",
   "execution_count": null,
   "metadata": {
    "colab": {
     "base_uri": "https://localhost:8080/",
     "height": 34
    },
    "colab_type": "code",
    "id": "88Y0SZ1P9xe5",
    "outputId": "5c1ba06b-8ce2-4820-ba1b-a5e929236088"
   },
   "outputs": [
    {
     "data": {
      "text/plain": [
       "21025"
      ]
     },
     "execution_count": 14,
     "metadata": {
      "tags": []
     },
     "output_type": "execute_result"
    }
   ],
   "source": [
    "vocab_to_int['bromwell']"
   ]
  },
  {
   "cell_type": "markdown",
   "metadata": {
    "colab_type": "text",
    "id": "WQhsORxa-Q0s"
   },
   "source": [
    "## One hot encoding\n",
    "\n",
    "We need one hot encoding for the labels. Think of a reason why we need one hot encoded labels for classes?\n",
    "\n",
    "## Task 3: Create one hot encoding for the labels. \n",
    "\n",
    "* Write the one hot encoding logic in the `one_hot` function.\n",
    "* Use 1 for positive label and 0 for negative label.\n",
    "* Save all the values in the `encoded_labels` function."
   ]
  },
  {
   "cell_type": "code",
   "execution_count": null,
   "metadata": {
    "colab": {
     "base_uri": "https://localhost:8080/",
     "height": 34
    },
    "colab_type": "code",
    "id": "ys3Mknqs_vp8",
    "outputId": "5ebcfcdb-9711-4b2d-ca14-35bfd70dfc71"
   },
   "outputs": [
    {
     "name": "stdout",
     "output_type": "stream",
     "text": [
      "['positive\\n', 'negative\\n', 'positive\\n', 'negative\\n', 'positive\\n', 'negative\\n', 'positive\\n', 'negative\\n', 'positive\\n', 'negative\\n']\n"
     ]
    }
   ],
   "source": [
    "print(labels[:10])"
   ]
  },
  {
   "cell_type": "code",
   "execution_count": null,
   "metadata": {
    "colab": {
     "base_uri": "https://localhost:8080/",
     "height": 50
    },
    "colab_type": "code",
    "id": "IpI3j2eW9xhd",
    "outputId": "0205f353-db79-474d-d608-8582fafc7f7f"
   },
   "outputs": [
    {
     "name": "stdout",
     "output_type": "stream",
     "text": [
      "25000\n",
      "[1 0 1 0 1 0 1 0 1 0]\n"
     ]
    }
   ],
   "source": [
    "# 1 for positive label and 0 for negative label\n",
    "def one_hot(labels):\n",
    "  ohe = [1 if label =='positive\\n' else 0 for label in labels]\n",
    "  ohe = np.array(ohe)\n",
    "  return ohe\n",
    "\n",
    "encoded_labels = one_hot(labels)\n",
    "\n",
    "# Print the length of your label and uncomment next line only if the encoded_labels size is 25001.\n",
    "# If you dont get the intuition behind this step, print encoded_labels to see it.\n",
    "# encoded_labels = encoded_labels[:25000]\n",
    "print(len(encoded_labels))\n",
    "print(encoded_labels[:10])"
   ]
  },
  {
   "cell_type": "code",
   "execution_count": null,
   "metadata": {
    "colab": {
     "base_uri": "https://localhost:8080/",
     "height": 50
    },
    "colab_type": "code",
    "id": "dAt0r6GL9xj8",
    "outputId": "b866fd4e-3237-4aba-c1b3-cd25463debba"
   },
   "outputs": [
    {
     "name": "stdout",
     "output_type": "stream",
     "text": [
      "Zero-length reviews: 1\n",
      "Maximum review length: 2514\n"
     ]
    }
   ],
   "source": [
    "reviews_ints = []\n",
    "for review in reviews_split:\n",
    "    reviews_ints.append([vocab_to_int[word] for word in review.split()])\n",
    "\n",
    "# This step is to see if any review is empty and we remove it. Otherwise the input will be all zeroes.\n",
    "review_lens = Counter([len(x) for x in reviews_ints])\n",
    "print(\"Zero-length reviews: {}\".format(review_lens[0]))\n",
    "print(\"Maximum review length: {}\".format(max(review_lens)))"
   ]
  },
  {
   "cell_type": "code",
   "execution_count": null,
   "metadata": {
    "colab": {
     "base_uri": "https://localhost:8080/",
     "height": 67
    },
    "colab_type": "code",
    "id": "jMHW3ooN9xmh",
    "outputId": "0afd0122-7f3f-4503-a5f6-b7b0d906d9f6"
   },
   "outputs": [
    {
     "name": "stdout",
     "output_type": "stream",
     "text": [
      "Number of reviews before removing outliers:  25001\n",
      "Number of reviews after removing outliers:  25000\n"
     ]
    },
    {
     "data": {
      "text/plain": [
       "25000"
      ]
     },
     "execution_count": 18,
     "metadata": {
      "tags": []
     },
     "output_type": "execute_result"
    }
   ],
   "source": [
    "print('Number of reviews before removing outliers: ', len(reviews_ints))\n",
    "\n",
    "## remove any reviews/labels with zero length from the reviews_ints list.\n",
    "\n",
    "# get indices of any reviews with length 0\n",
    "non_zero_idx = [ii for ii, review in enumerate(reviews_ints) if len(review) != 0]\n",
    "\n",
    "# remove 0-length reviews and their labels\n",
    "reviews_ints = [reviews_ints[ii] for ii in non_zero_idx]\n",
    "encoded_labels = np.array([encoded_labels[ii] for ii in non_zero_idx])\n",
    "\n",
    "print('Number of reviews after removing outliers: ', len(reviews_ints))\n",
    "\n",
    "len(encoded_labels)"
   ]
  },
  {
   "cell_type": "markdown",
   "metadata": {
    "colab_type": "text",
    "id": "ZSo9RO69AXDa"
   },
   "source": [
    "## Task 4: Padding the data\n",
    "\n",
    "> Define a function that returns an array `features` that contains the padded data, of a standard size, that we'll pass to the network. \n",
    "* The data should come from `review_ints`, since we want to feed integers to the network. \n",
    "* Each row should be `seq_length` elements long. \n",
    "* For reviews shorter than `seq_length` words, **left pad** with 0s. That is, if the review is `['best', 'movie', 'ever']`, `[117, 18, 128]` as integers, the row will look like `[0, 0, 0, ..., 0, 117, 18, 128]`. \n",
    "* For reviews longer than `seq_length`, use only the first `seq_length` words as the feature vector.\n",
    "\n",
    "As a small example, if the `seq_length=10` and an input review is: \n",
    "```\n",
    "[117, 18, 128]\n",
    "```\n",
    "The resultant, padded sequence should be: \n",
    "\n",
    "```\n",
    "[0, 0, 0, 0, 0, 0, 0, 117, 18, 128]\n",
    "```\n",
    "\n",
    "**Your final `features` array should be a 2D array, with as many rows as there are reviews, and as many columns as the specified `seq_length`.**"
   ]
  },
  {
   "cell_type": "code",
   "execution_count": null,
   "metadata": {
    "colab": {
     "base_uri": "https://localhost:8080/",
     "height": 521
    },
    "colab_type": "code",
    "id": "l8cbV60u9wlJ",
    "outputId": "3cabefd3-a687-468c-ce53-2a59f54e2a06"
   },
   "outputs": [
    {
     "name": "stdout",
     "output_type": "stream",
     "text": [
      "[[    0     0     0     0     0     0     0     0     0     0]\n",
      " [    0     0     0     0     0     0     0     0     0     0]\n",
      " [22382    42 46418    15   706 17139  3389    47    77    35]\n",
      " [ 4505   505    15     3  3342   162  8312  1652     6  4819]\n",
      " [    0     0     0     0     0     0     0     0     0     0]\n",
      " [    0     0     0     0     0     0     0     0     0     0]\n",
      " [    0     0     0     0     0     0     0     0     0     0]\n",
      " [    0     0     0     0     0     0     0     0     0     0]\n",
      " [    0     0     0     0     0     0     0     0     0     0]\n",
      " [   54    10    14   116    60   798   552    71   364     5]\n",
      " [    0     0     0     0     0     0     0     0     0     0]\n",
      " [    0     0     0     0     0     0     0     0     0     0]\n",
      " [    0     0     0     0     0     0     0     0     0     0]\n",
      " [    1   330   578    34     3   162   748  2731     9   325]\n",
      " [    9    11 10171  5305  1946   689   444    22   280   673]\n",
      " [    0     0     0     0     0     0     0     0     0     0]\n",
      " [    1   307 10399  2069  1565  6202  6528  3288 17946 10628]\n",
      " [    0     0     0     0     0     0     0     0     0     0]\n",
      " [   21   122  2069  1565   515  8181    88     6  1325  1182]\n",
      " [    1    20     6    76    40     6    58    81    95     5]\n",
      " [   54    10    84   329 26230 46427    63    10    14   614]\n",
      " [   11    20     6    30  1436 32317  3769   690 15100     6]\n",
      " [    0     0     0     0     0     0     0     0     0     0]\n",
      " [    0     0     0     0     0     0     0     0     0     0]\n",
      " [   40    26   109 17952  1422     9     1   327     4   125]\n",
      " [    0     0     0     0     0     0     0     0     0     0]\n",
      " [   10   499     1   307 10399    55    74     8    13    30]\n",
      " [    0     0     0     0     0     0     0     0     0     0]\n",
      " [    0     0     0     0     0     0     0     0     0     0]\n",
      " [    0     0     0     0     0     0     0     0     0     0]]\n"
     ]
    }
   ],
   "source": [
    "# Write the logic for padding the data\n",
    "def pad_features(reviews_ints, seq_length):\n",
    "  features = np.zeros((len(reviews_ints), seq_length), dtype = int)\n",
    "    \n",
    "  for i, review in enumerate(reviews_ints):\n",
    "    review_len = len(review)\n",
    "        \n",
    "    if review_len <= seq_length:\n",
    "      zeroes = list(np.zeros(seq_length-review_len))\n",
    "      new = zeroes+review\n",
    "    elif review_len > seq_length:\n",
    "      new = review[0:seq_length]\n",
    "        \n",
    "    features[i,:] = np.array(new)\n",
    "  return features\n",
    "\n",
    "# Verify if everything till now is correct. \n",
    "\n",
    "seq_length = 200\n",
    "\n",
    "features = pad_features(reviews_ints, seq_length=seq_length)\n",
    "\n",
    "## test statements - do not change - ##\n",
    "assert len(features)==len(reviews_ints), \"Your features should have as many rows as reviews.\"\n",
    "assert len(features[0])==seq_length, \"Each feature row should contain seq_length values.\"\n",
    "\n",
    "# print first 10 values of the first 30 batches \n",
    "print(features[:30,:10])"
   ]
  },
  {
   "cell_type": "markdown",
   "metadata": {
    "colab_type": "text",
    "id": "oF-3O4nPAqaa"
   },
   "source": [
    "Now we have everything ready. It's time to split our dataset into `Train`, `Test` and `Validate`. \n",
    "\n",
    "Read more about the train-test-split here : https://cs230-stanford.github.io/train-dev-test-split.html\n",
    "\n",
    "## Task 5: Lets create train, test and val split in the ratio of 8:1:1.  \n",
    "\n",
    "Hint: Either use shuffle and slicing in Python or use train-test-val split in Sklearn. "
   ]
  },
  {
   "cell_type": "code",
   "execution_count": null,
   "metadata": {
    "colab": {},
    "colab_type": "code",
    "id": "bJHlAR6aC6Wi"
   },
   "outputs": [],
   "source": [
    "from sklearn.model_selection import train_test_split\n",
    "X_train, X_test, y_train, y_test = train_test_split(features, encoded_labels, test_size=0.2, random_state=1)"
   ]
  },
  {
   "cell_type": "code",
   "execution_count": null,
   "metadata": {
    "colab": {
     "base_uri": "https://localhost:8080/",
     "height": 84
    },
    "colab_type": "code",
    "id": "dABdGN1bAUCA",
    "outputId": "2664c009-de99-4234-fb02-2d985e4d967a"
   },
   "outputs": [
    {
     "name": "stdout",
     "output_type": "stream",
     "text": [
      "\t\t\tFeature Shapes:\n",
      "Train set: \t\t(20000, 200) \n",
      "Validation set: \t(2500, 200) \n",
      "Test set: \t\t(2500, 200)\n"
     ]
    }
   ],
   "source": [
    "train_frac = 0.8\n",
    "val_frac = 0.1\n",
    "test_frac = 0.1\n",
    "\n",
    "from sklearn.model_selection import train_test_split\n",
    "def train_test_val_split(features, encoded_labels):\n",
    "  x_train, x_test, y_train, y_test = train_test_split(features, encoded_labels, test_size=1 - train_frac)\n",
    "\n",
    "  # Split the current (20%) test set again into 10% test and 10% validation sets. \n",
    "  x_val, x_test, y_val, y_test = train_test_split(x_test, y_test, test_size=test_frac/(test_frac + val_frac)) \n",
    "\n",
    "  return x_train, x_val, x_test, y_train, y_val, y_test\n",
    "\n",
    "# def train_test_val_labels(encoded_labels):\n",
    "#     pass\n",
    "\n",
    "train_x, val_x, test_x, train_y, val_y, test_y = train_test_val_split(features, encoded_labels)\n",
    "\n",
    "# train_y, val_y, test_y = train_test_val_labels(encoded_labels)\n",
    "\n",
    "## print out the shapes of your resultant feature data\n",
    "print(\"\\t\\t\\tFeature Shapes:\")\n",
    "print(\"Train set: \\t\\t{}\".format(train_x.shape), \n",
    "      \"\\nValidation set: \\t{}\".format(val_x.shape),\n",
    "      \"\\nTest set: \\t\\t{}\".format(test_x.shape))"
   ]
  },
  {
   "cell_type": "markdown",
   "metadata": {
    "colab_type": "text",
    "id": "ukXNep-cBUET"
   },
   "source": [
    "## DataLoaders and Batching\n",
    "\n",
    "After creating training, test, and validation data, we can create DataLoaders for this data by following two steps:\n",
    "1. Create a known format for accessing our data, using [TensorDataset](https://pytorch.org/docs/stable/data.html#) which takes in an input set of data and a target set of data with the same first dimension, and creates a dataset.\n",
    "2. Create DataLoaders and batch our training, validation, and test Tensor datasets.\n",
    "\n",
    "```\n",
    "train_data = TensorDataset(torch.from_numpy(train_x), torch.from_numpy(train_y))\n",
    "train_loader = DataLoader(train_data, batch_size=batch_size)\n",
    "```\n",
    "\n",
    "This is an alternative to creating a generator function for batching our data into full batches.\n",
    "\n",
    "### Task 6: Create a generator function for the dataset. \n",
    "See the above link for more info."
   ]
  },
  {
   "cell_type": "code",
   "execution_count": null,
   "metadata": {
    "colab": {
     "base_uri": "https://localhost:8080/",
     "height": 286
    },
    "colab_type": "code",
    "id": "yjn6aq-3AUaO",
    "outputId": "f8a7571f-8362-4093-aa15-0db7a344dc40"
   },
   "outputs": [
    {
     "name": "stdout",
     "output_type": "stream",
     "text": [
      "Sample input size:  torch.Size([50, 200])\n",
      "Sample input: \n",
      " tensor([[   0,    0,    0,  ...,  911,  610,  135],\n",
      "        [   0,    0,    0,  ...,  430,  120,   24],\n",
      "        [   0,    0,    0,  ...,    8,   35, 1348],\n",
      "        ...,\n",
      "        [  40,   47,   77,  ...,  250,    5,   29],\n",
      "        [1011,  674,  332,  ..., 1047,   42,    1],\n",
      "        [   0,    0,    0,  ...,    3, 2136,  152]])\n",
      "\n",
      "Sample label size:  torch.Size([50])\n",
      "Sample label: \n",
      " tensor([0, 0, 1, 0, 1, 1, 0, 0, 0, 0, 0, 1, 0, 1, 0, 1, 0, 0, 0, 1, 0, 0, 1, 0,\n",
      "        0, 1, 1, 1, 0, 1, 1, 0, 1, 0, 1, 0, 1, 0, 0, 0, 1, 0, 1, 1, 1, 0, 1, 0,\n",
      "        1, 0])\n",
      "Training on GPU.\n"
     ]
    }
   ],
   "source": [
    "import torch\n",
    "from torch.utils.data import TensorDataset, DataLoader\n",
    "\n",
    "# create Tensor datasets for train, test and val\n",
    "train_data = TensorDataset(torch.from_numpy(train_x), torch.from_numpy(train_y))\n",
    "val_data = TensorDataset(torch.from_numpy(val_x), torch.from_numpy(val_y))\n",
    "test_data = TensorDataset(torch.from_numpy(test_x), torch.from_numpy(test_y))\n",
    "\n",
    "# dataloaders\n",
    "batch_size = 50 \n",
    "\n",
    "# make sure to SHUFFLE your training data. Keep Shuffle=True.\n",
    "train_loader = DataLoader(train_data, shuffle=True, batch_size=batch_size)\n",
    "val_loader = DataLoader(val_data, shuffle=True, batch_size=batch_size)\n",
    "test_loader = DataLoader(test_data, shuffle=True, batch_size=batch_size)\n",
    "\n",
    "# obtain one batch of training data and label. \n",
    "dataiter = iter(train_loader)\n",
    "sample_x, sample_y = dataiter.next()\n",
    "\n",
    "print('Sample input size: ', sample_x.size()) # batch_size, seq_length\n",
    "print('Sample input: \\n', sample_x)\n",
    "print()\n",
    "print('Sample label size: ', sample_y.size()) # batch_size\n",
    "print('Sample label: \\n', sample_y)\n",
    "\n",
    "# Check if GPU is available.\n",
    "train_on_gpu=torch.cuda.is_available()\n",
    "\n",
    "if(train_on_gpu):\n",
    "    print('Training on GPU.')\n",
    "else:\n",
    "    print('No GPU available, training on CPU.')"
   ]
  },
  {
   "cell_type": "markdown",
   "metadata": {
    "colab_type": "text",
    "id": "Pq_ILAeeHlnq"
   },
   "source": [
    "## Creating the Model \n",
    "\n",
    "Here we are creating a simple RNN in PyTorch and pass the output to the a Linear layer and Sigmoid at the end to get the probability score and prediction as POSITIVE or NEGATIVE. \n",
    "\n",
    "The network is very similar to the CNN network created in Exercise 2. \n",
    "\n",
    "More info available at: https://pytorch.org/docs/0.3.1/nn.html?highlight=rnn#torch.nn.RNN\n",
    "\n",
    "Read about the parameters that the RNN takes and see what will happen when `batch_first` is set as `True`."
   ]
  },
  {
   "cell_type": "code",
   "execution_count": null,
   "metadata": {
    "colab": {},
    "colab_type": "code",
    "id": "xbAM3hHLAUgG"
   },
   "outputs": [],
   "source": [
    "import torch.nn as nn\n",
    "\n",
    "class SentimentRNN(nn.Module):\n",
    "    \"\"\"\n",
    "    The RNN model that will be used to perform Sentiment analysis.\n",
    "    \"\"\"\n",
    "\n",
    "    def __init__(self, vocab_size, output_size, hidden_dim, n_layers, drop_prob=0):\n",
    "        \"\"\"\n",
    "        Initialize the model by setting up the layers.\n",
    "        \"\"\"\n",
    "        super(SentimentRNN, self).__init__()\n",
    "\n",
    "        self.output_size = output_size\n",
    "        self.n_layers = n_layers\n",
    "        self.hidden_dim = hidden_dim\n",
    "        \n",
    "        # RNN layer\n",
    "        self.rnn = nn.RNN(vocab_size, hidden_dim, n_layers, \n",
    "                            dropout=drop_prob, batch_first=True)\n",
    "        \n",
    "        # linear and sigmoid layers\n",
    "        self.fc = nn.Linear(hidden_dim, output_size)\n",
    "        self.sig = nn.Sigmoid()\n",
    "        \n",
    "\n",
    "    def forward(self, x, hidden):\n",
    "        \"\"\"\n",
    "        Perform a forward pass of our model on some input and hidden state.\n",
    "        \"\"\"\n",
    "        batch_size = x.size(0)\n",
    "\n",
    "        # RNN out layer\n",
    "        rnn_out, hidden = self.rnn(x, hidden)\n",
    "    \n",
    "        # stack up lstm outputs\n",
    "        rnn_out = rnn_out.view(-1, self.hidden_dim)\n",
    "        \n",
    "        # dropout and fully-connected layer\n",
    "        out = self.dropout(rnn_out)\n",
    "        out = self.fc(out)\n",
    "        # sigmoid function\n",
    "        sig_out = self.sig(out)\n",
    "        \n",
    "        # reshape to be batch_size first\n",
    "        sig_out = sig_out.view(batch_size, -1)\n",
    "        sig_out = sig_out[:, -1] # get last batch of labels\n",
    "        \n",
    "        # return last sigmoid output and hidden state\n",
    "        return sig_out, hidden\n",
    "    \n",
    "    def init_hidden(self, batch_size):\n",
    "        ''' Initializes hidden state '''\n",
    "        # Create two new tensors with sizes n_layers x batch_size x hidden_dim,\n",
    "        # initialized to zero, for hidden state and cell state of LSTM\n",
    "        weight = next(self.parameters()).data\n",
    "        \n",
    "        if (train_on_gpu):\n",
    "            hidden = (weight.new(self.n_layers, batch_size, self.hidden_dim).zero_().cuda(),\n",
    "                  weight.new(self.n_layers, batch_size, self.hidden_dim).zero_().cuda())\n",
    "        else:\n",
    "            hidden = (weight.new(self.n_layers, batch_size, self.hidden_dim).zero_(),\n",
    "                      weight.new(self.n_layers, batch_size, self.hidden_dim).zero_())\n",
    "        \n",
    "        return hidden    "
   ]
  },
  {
   "cell_type": "markdown",
   "metadata": {
    "colab_type": "text",
    "id": "ecLXEOHNHu9W"
   },
   "source": [
    "\n",
    "## Task 7 : Know the shape\n",
    "\n",
    "Given a batch of 64 and input size as 1 and a sequence length of 200 to a RNN with 2 stacked layers and 512 hidden layers, find the shape of input data (x) and the hidden dimension (hidden) specified in the forward pass of the network. Note, the batch_first is kept to be True. \n",
    "\n"
   ]
  },
  {
   "cell_type": "code",
   "execution_count": null,
   "metadata": {
    "colab": {
     "base_uri": "https://localhost:8080/",
     "height": 101
    },
    "colab_type": "code",
    "id": "0bIduAweAUHw",
    "outputId": "c73bac9d-cda8-49ba-ef9c-4e074c184e4e"
   },
   "outputs": [
    {
     "name": "stdout",
     "output_type": "stream",
     "text": [
      "SentimentRNN(\n",
      "  (rnn): RNN(74073, 256, batch_first=True)\n",
      "  (fc): Linear(in_features=256, out_features=1, bias=True)\n",
      "  (sig): Sigmoid()\n",
      ")\n"
     ]
    }
   ],
   "source": [
    "# Instantiate the model w/ hyperparams\n",
    "vocab_size = len(vocab_to_int)+1 # +1 for the 0 padding + our word tokens\n",
    "output_size = 1\n",
    "hidden_dim = 256\n",
    "n_layers = 1\n",
    "\n",
    "net = SentimentRNN(vocab_size, output_size, hidden_dim, n_layers)\n",
    "print(net)"
   ]
  },
  {
   "cell_type": "markdown",
   "metadata": {
    "colab_type": "text",
    "id": "21b4eqKWIi0C"
   },
   "source": [
    "\n",
    "## Task 8: LSTM \n",
    "\n",
    "Before we start creating the LSTM, it is important to understand LSTM and to know why we prefer LSTM over a Vanilla RNN for this task. \n",
    "> Here are some good links to know about LSTM:\n",
    "* [Colah Blog](http://colah.github.io/posts/2015-08-Understanding-LSTMs/)\n",
    "* [Understanding LSTM](http://blog.echen.me/2017/05/30/exploring-lstms/)\n",
    "* [RNN effectiveness](http://karpathy.github.io/2015/05/21/rnn-effectiveness/)\n",
    "\n",
    "\n",
    "Now create a class named SentimentLSTM with `n_layers=2`, and rest all hyperparameters same as before. Also, create an embedding layer and feed the output of the embedding layer as input to the LSTM model. Dont forget to add a regularizer (dropout) layer after the LSTM layer with p=0.4 to prevent overfitting. "
   ]
  },
  {
   "cell_type": "code",
   "execution_count": null,
   "metadata": {
    "colab": {},
    "colab_type": "code",
    "id": "c4WiACMZAT91"
   },
   "outputs": [],
   "source": [
    "import torch.nn as nn\n",
    "\n",
    "class SentimentLSTM(nn.Module):\n",
    "    \"\"\"\n",
    "    The LSTM model that will be used to perform Sentiment analysis.\n",
    "    \"\"\"\n",
    "\n",
    "    def __init__(self, vocab_size, output_size, embedding_dim, hidden_dim, n_layers, drop_prob=0.5):\n",
    "        \"\"\"\n",
    "        Initialize the model by setting up the layers.\n",
    "        \"\"\"\n",
    "        super(SentimentLSTM, self).__init__()\n",
    "\n",
    "        self.output_size = output_size\n",
    "        self.n_layers = n_layers\n",
    "        self.hidden_dim = hidden_dim\n",
    "        \n",
    "        # define embedding, LSTM, dropout and Linear layers here\n",
    "        self.embedding = nn.Embedding(vocab_size, embedding_dim)\n",
    "        self.lstm = nn.LSTM(embedding_dim, hidden_dim, n_layers, \n",
    "                            dropout=drop_prob, batch_first=True)\n",
    "        \n",
    "        # dropout layer\n",
    "        self.dropout = nn.Dropout(drop_prob)\n",
    "\n",
    "        # linear and sigmoid layers\n",
    "        self.fc = nn.Linear(hidden_dim, output_size)\n",
    "        self.sig = nn.Sigmoid()\n",
    "        \n",
    "\n",
    "    def forward(self, x, hidden):\n",
    "        \"\"\"\n",
    "        Perform a forward pass of our model on some input and hidden state.\n",
    "        \"\"\"\n",
    "        batch_size = x.size(0)\n",
    "\n",
    "        # embeddings and lstm_out\n",
    "        embeds = self.embedding(x)\n",
    "        lstm_out, hidden = self.lstm(embeds, hidden)\n",
    "    \n",
    "        # stack up lstm outputs\n",
    "        lstm_out = lstm_out.contiguous().view(-1, self.hidden_dim)\n",
    "        \n",
    "        # dropout and fully-connected layer\n",
    "        out = self.dropout(lstm_out)\n",
    "        out = self.fc(out)\n",
    "        # sigmoid function\n",
    "        sig_out = self.sig(out)\n",
    "        \n",
    "        # reshape to be batch_size first\n",
    "        sig_out = sig_out.view(batch_size, -1)\n",
    "        sig_out = sig_out[:, -1] # get last batch of labels\n",
    "        \n",
    "        # return last sigmoid output and hidden state\n",
    "        return sig_out, hidden    \n",
    "    \n",
    "    def init_hidden(self, batch_size):\n",
    "        ''' Initializes hidden state '''\n",
    "        # Create two new tensors with sizes n_layers x batch_size x hidden_dim,\n",
    "        # initialized to zero, for hidden state and cell state of LSTM\n",
    "        weight = next(self.parameters()).data\n",
    "        \n",
    "        if (train_on_gpu):\n",
    "            hidden = (weight.new(self.n_layers, batch_size, self.hidden_dim).zero_().cuda(),\n",
    "                  weight.new(self.n_layers, batch_size, self.hidden_dim).zero_().cuda())\n",
    "        else:\n",
    "            hidden = (weight.new(self.n_layers, batch_size, self.hidden_dim).zero_(),\n",
    "                      weight.new(self.n_layers, batch_size, self.hidden_dim).zero_())\n",
    "        \n",
    "        return hidden"
   ]
  },
  {
   "cell_type": "markdown",
   "metadata": {
    "colab_type": "text",
    "id": "iMJeMIvOIq_K"
   },
   "source": [
    "## Instantiate the network\n",
    "\n",
    "Here, we'll instantiate the network. First up, defining the hyperparameters.\n",
    "\n",
    "* `vocab_size`: Size of our vocabulary or the range of values for our input, word tokens.\n",
    "* `output_size`: Size of our desired output; the number of class scores we want to output (pos/neg).\n",
    "* `embedding_dim`: Number of columns in the embedding lookup table; size of our embeddings.\n",
    "* `hidden_dim`: Number of units in the hidden layers of our LSTM cells. Usually larger is better performance wise. Common values are 128, 256, 512, etc.\n",
    "* `n_layers`: Number of LSTM layers in the network. Typically between 1-3"
   ]
  },
  {
   "cell_type": "code",
   "execution_count": null,
   "metadata": {
    "colab": {
     "base_uri": "https://localhost:8080/",
     "height": 134
    },
    "colab_type": "code",
    "id": "zI8grWa9AT72",
    "outputId": "3f033fde-0361-40cb-e43f-d16daa7e9e6c"
   },
   "outputs": [
    {
     "name": "stdout",
     "output_type": "stream",
     "text": [
      "SentimentLSTM(\n",
      "  (embedding): Embedding(74073, 300)\n",
      "  (lstm): LSTM(300, 256, num_layers=2, batch_first=True, dropout=0.5)\n",
      "  (dropout): Dropout(p=0.5, inplace=False)\n",
      "  (fc): Linear(in_features=256, out_features=1, bias=True)\n",
      "  (sig): Sigmoid()\n",
      ")\n"
     ]
    }
   ],
   "source": [
    "# Instantiate the model with these hyperparameters\n",
    "vocab_size = len(vocab_to_int)+1 # +1 for the 0 padding + our word tokens\n",
    "output_size = 1\n",
    "embedding_dim = 300\n",
    "hidden_dim = 256\n",
    "n_layers = 2\n",
    "\n",
    "net = SentimentLSTM(vocab_size, output_size, embedding_dim, hidden_dim, n_layers)\n",
    "print(net)\n",
    "\n",
    "# loss and optimization functions\n",
    "lr=0.001\n",
    "\n",
    "criterion = nn.BCELoss()\n",
    "optimizer = torch.optim.Adam(net.parameters(), lr=lr)"
   ]
  },
  {
   "cell_type": "markdown",
   "metadata": {
    "colab_type": "text",
    "id": "kTcPqxvuJvKH"
   },
   "source": [
    "### Task 9: Loss Functions\n",
    "We are using `BCELoss (Binary Cross Entropy Loss)` since we have two output classes. \n",
    "\n",
    "Can Cross Entropy Loss be used instead of BCELoss? \n",
    "\n",
    "If no, why not? If yes, how?\n",
    "\n",
    "Is `NLLLoss()` and last layer as `LogSoftmax()` is same as using `CrossEntropyLoss()` with a Softmax final layer? Can you get the mathematical intuition behind it?"
   ]
  },
  {
   "cell_type": "code",
   "execution_count": null,
   "metadata": {
    "colab": {},
    "colab_type": "code",
    "id": "hYZQIgVCTZyw"
   },
   "outputs": [],
   "source": []
  },
  {
   "cell_type": "code",
   "execution_count": null,
   "metadata": {
    "colab": {
     "base_uri": "https://localhost:8080/",
     "height": 286
    },
    "colab_type": "code",
    "id": "yGHeAb4hIogi",
    "outputId": "1105a897-8bcc-4124-d741-ec98e6e5dd91"
   },
   "outputs": [
    {
     "name": "stdout",
     "output_type": "stream",
     "text": [
      "Epoch: 1/4... Step: 100... Loss: 0.006300... Val Loss: 0.953706\n",
      "Epoch: 1/4... Step: 200... Loss: 0.003650... Val Loss: 1.012819\n",
      "Epoch: 1/4... Step: 300... Loss: 0.020759... Val Loss: 0.853428\n",
      "Epoch: 1/4... Step: 400... Loss: 0.003493... Val Loss: 0.862832\n",
      "Epoch: 2/4... Step: 500... Loss: 0.072776... Val Loss: 0.905352\n",
      "Epoch: 2/4... Step: 600... Loss: 0.001030... Val Loss: 0.967910\n",
      "Epoch: 2/4... Step: 700... Loss: 0.002339... Val Loss: 0.949192\n",
      "Epoch: 2/4... Step: 800... Loss: 0.006935... Val Loss: 0.904492\n",
      "Epoch: 3/4... Step: 900... Loss: 0.001341... Val Loss: 1.055652\n",
      "Epoch: 3/4... Step: 1000... Loss: 0.009274... Val Loss: 1.063849\n",
      "Epoch: 3/4... Step: 1100... Loss: 0.000660... Val Loss: 0.950976\n",
      "Epoch: 3/4... Step: 1200... Loss: 0.004356... Val Loss: 1.044279\n",
      "Epoch: 4/4... Step: 1300... Loss: 0.082209... Val Loss: 1.129178\n",
      "Epoch: 4/4... Step: 1400... Loss: 0.017529... Val Loss: 0.898144\n",
      "Epoch: 4/4... Step: 1500... Loss: 0.006740... Val Loss: 1.009609\n",
      "Epoch: 4/4... Step: 1600... Loss: 0.007986... Val Loss: 0.974293\n"
     ]
    }
   ],
   "source": [
    "from tensorboardX import SummaryWriter\n",
    "\n",
    "writer = SummaryWriter(\".\")\n",
    "#Training and Validation\n",
    "\n",
    "epochs = 4 # 3-4 is approx where I noticed the validation loss stop decreasing\n",
    "\n",
    "counter = 0\n",
    "print_every = 100\n",
    "clip=5 # gradient clipping\n",
    "\n",
    "# move model to GPU, if available\n",
    "if(train_on_gpu):\n",
    "    net.cuda()\n",
    "\n",
    "net.train()\n",
    "# train for some number of epochs\n",
    "for e in range(epochs):\n",
    "    # initialize hidden state\n",
    "    h = net.init_hidden(batch_size)\n",
    "\n",
    "    # batch loop\n",
    "    for inputs, labels in train_loader:\n",
    "        counter += 1\n",
    "\n",
    "        if(train_on_gpu):\n",
    "            inputs, labels = inputs.cuda(), labels.cuda()\n",
    "\n",
    "        # Creating new variables for the hidden state, otherwise\n",
    "        # we'd backprop through the entire training history\n",
    "        h = tuple([each.data for each in h])\n",
    "\n",
    "        # zero accumulated gradients\n",
    "        net.zero_grad()\n",
    "\n",
    "        # get the output from the model\n",
    "        output, h = net(inputs, h)\n",
    "\n",
    "        # calculate the loss and perform backprop\n",
    "        loss = criterion(output.squeeze(), labels.float())\n",
    "        loss.backward()\n",
    "        # `clip_grad_norm` helps prevent the exploding gradient problem in RNNs / LSTMs.\n",
    "        nn.utils.clip_grad_norm_(net.parameters(), clip)\n",
    "        optimizer.step()\n",
    "\n",
    "        # loss stats\n",
    "        if counter % print_every == 0:\n",
    "            # Get validation loss\n",
    "            val_h = net.init_hidden(batch_size)\n",
    "            val_losses = []\n",
    "            net.eval()\n",
    "            for inputs, labels in val_loader:\n",
    "\n",
    "                # Creating new variables for the hidden state, otherwise\n",
    "                # we'd backprop through the entire training history\n",
    "                val_h = tuple([each.data for each in val_h])\n",
    "\n",
    "                if(train_on_gpu):\n",
    "                    inputs, labels = inputs.cuda(), labels.cuda()\n",
    "\n",
    "                output, val_h = net(inputs, val_h)\n",
    "                val_loss = criterion(output.squeeze(), labels.float())\n",
    "\n",
    "                val_losses.append(val_loss.item())\n",
    "\n",
    "            net.train()\n",
    "            writer.add_scalar('Train Loss', loss.item(), counter)\n",
    "            writer.add_scalar('Val Loss', val_loss.item(), counter)\n",
    "\n",
    "            print(\"Epoch: {}/{}...\".format(e+1, epochs),\n",
    "                  \"Step: {}...\".format(counter),\n",
    "                  \"Loss: {:.6f}...\".format(loss.item()),\n",
    "                  \"Val Loss: {:.6f}\".format(np.mean(val_losses)))"
   ]
  },
  {
   "cell_type": "code",
   "execution_count": null,
   "metadata": {
    "colab": {
     "base_uri": "https://localhost:8080/",
     "height": 50
    },
    "colab_type": "code",
    "id": "2ff45CUxIorv",
    "outputId": "f80602dd-b8af-4715-95f5-e576b4e55c13"
   },
   "outputs": [
    {
     "name": "stdout",
     "output_type": "stream",
     "text": [
      "Test loss: 0.361\n",
      "Test accuracy: 0.854\n"
     ]
    }
   ],
   "source": [
    "# Get test data loss and accuracy\n",
    "\n",
    "test_losses = [] # track loss\n",
    "num_correct = 0\n",
    "\n",
    "if(train_on_gpu):\n",
    "    net.cuda()\n",
    "\n",
    "# init hidden state\n",
    "h = net.init_hidden(batch_size)\n",
    "\n",
    "net.eval()\n",
    "# iterate over test data\n",
    "for inputs, labels in test_loader:\n",
    "\n",
    "  # Creating new variables for the hidden state, otherwise\n",
    "  # we'd backprop through the entire training history\n",
    "  h = tuple([each.data for each in h])\n",
    "\n",
    "  if(train_on_gpu):\n",
    "      inputs, labels = inputs.cuda(), labels.cuda()\n",
    "  \n",
    "  # get predicted outputs\n",
    "  output, h = net(inputs, h)\n",
    "  \n",
    "  # calculate loss\n",
    "  test_loss = criterion(output.squeeze(), labels.float())\n",
    "  test_losses.append(test_loss.item())\n",
    "  \n",
    "  # convert output probabilities to predicted class (0 or 1)\n",
    "  pred = torch.round(output.squeeze())  # rounds to the nearest integer\n",
    "  \n",
    "  # compare predictions to true label\n",
    "  correct_tensor = pred.eq(labels.float().view_as(pred))\n",
    "  correct = np.squeeze(correct_tensor.numpy()) if not train_on_gpu else np.squeeze(correct_tensor.cpu().numpy())\n",
    "  num_correct += np.sum(correct)\n",
    "  \n",
    "# avg test loss\n",
    "print(\"Test loss: {:.3f}\".format(np.mean(test_losses)))\n",
    "\n",
    "# accuracy over all test data\n",
    "test_acc = num_correct/len(test_loader.dataset)\n",
    "print(\"Test accuracy: {:.3f}\".format(test_acc))"
   ]
  },
  {
   "cell_type": "markdown",
   "metadata": {
    "colab_type": "text",
    "id": "XWZT5pwmKwWw"
   },
   "source": [
    "## Inference\n",
    "Once we are done with training and validating, we can improve training loss and validation loss by playing around with the hyperparameters. Can you find a better set of hyperparams? Play around with it. \n",
    "\n",
    "### Task 10: Prediction Function\n",
    "Now write a prediction function to predict the output for the test set created. Save the results in a CSV file with one column as the reviews and the prediction in the next column. Calculate the accuracy of the test set."
   ]
  },
  {
   "cell_type": "code",
   "execution_count": null,
   "metadata": {
    "colab": {
     "base_uri": "https://localhost:8080/",
     "height": 34
    },
    "colab_type": "code",
    "id": "6CkMfapYIoyy",
    "outputId": "2a7a2627-5152-4907-b8df-22ea6a6b9f2c"
   },
   "outputs": [
    {
     "name": "stdout",
     "output_type": "stream",
     "text": [
      "[[3795, 24, 98, 249, 44, 11, 30]]\n"
     ]
    }
   ],
   "source": [
    "def tokenize_review(test_review):\n",
    "  test_review = test_review.lower() # lowercase\n",
    "\n",
    "  # get rid of punctuation\n",
    "  test_text = text_without_punct(test_review)\n",
    "  test_text = test_text.split('\\n')\n",
    "\n",
    "  # splitting by spaces\n",
    "  test_words = split_in_words(test_text)\n",
    "\n",
    "  # tokens\n",
    "  test_ints = []\n",
    "  test_ints.append([vocab_to_int[word] for word in test_words])\n",
    "\n",
    "  return test_ints\n",
    "\n",
    "# test code to see if tokenization is working correctly and generate tokenized review\n",
    "test_review = \"I'm not too sure about this one.\"\n",
    "test_ints = tokenize_review(test_review)\n",
    "print(test_ints)"
   ]
  },
  {
   "cell_type": "code",
   "execution_count": null,
   "metadata": {
    "colab": {
     "base_uri": "https://localhost:8080/",
     "height": 235
    },
    "colab_type": "code",
    "id": "zbqoTeBjIon4",
    "outputId": "32bfee57-20b8-49cb-f4b1-0017dd4dd415"
   },
   "outputs": [
    {
     "name": "stdout",
     "output_type": "stream",
     "text": [
      "[[  0   0   0   0   0   0   0   0   0   0   0   0   0   0   0   0   0   0\n",
      "    0   0   0   0   0   0   0   0   0   0   0   0   0   0   0   0   0   0\n",
      "    0   0   0   0   0   0   0   0   0   0   0   0   0   0   0   0   0   0\n",
      "    0   0   0   0   0   0   0   0   0   0   0   0   0   0   0   0   0   0\n",
      "    0   0   0   0   0   0   0   0   0   0   0   0   0   0   0   0   0   0\n",
      "    0   0   0   0   0   0   0   0   0   0   0   0   0   0   0   0   0   0\n",
      "    0   0   0   0   0   0   0   0   0   0   0   0   0   0   0   0   0   0\n",
      "    0   0   0   0   0   0   0   0   0   0   0   0   0   0   0   0   0   0\n",
      "    0   0   0   0   0   0   0   0   0   0   0   0   0   0   0   0   0   0\n",
      "    0   0   0   0   0   0   0   0   0   0   0   0   0   0   0   0   0   0\n",
      "    0   0   0   0   0   0   0   0   0   0   0   0   0   0   0   0   0  76\n",
      "  717 354]]\n",
      "torch.Size([1, 200])\n"
     ]
    }
   ],
   "source": [
    "# test sequence padding\n",
    "seq_length = 200\n",
    "features = pad_features(test_ints, seq_length)\n",
    "print(features)\n",
    "\n",
    "# test conversion to tensor and pass into your model\n",
    "feature_tensor = torch.from_numpy(features)\n",
    "print(feature_tensor.size())\n",
    "\n",
    "def predict(net, test_review, sequence_length=200):\n",
    "    \n",
    "  net.eval()\n",
    "  \n",
    "  # tokenize review\n",
    "  test_ints = tokenize_review(test_review)\n",
    "  \n",
    "  # pad tokenized sequence\n",
    "  seq_length=sequence_length\n",
    "  features = pad_features(test_ints, seq_length)\n",
    "  \n",
    "  # convert to tensor to pass into your model\n",
    "  feature_tensor = torch.from_numpy(features)\n",
    "  \n",
    "  batch_size = feature_tensor.size(0)\n",
    "  \n",
    "  # initialize hidden state\n",
    "  h = net.init_hidden(batch_size)\n",
    "  \n",
    "  if(train_on_gpu):\n",
    "      feature_tensor = feature_tensor.cuda()\n",
    "  \n",
    "  # get the output from the model\n",
    "  output, h = net(feature_tensor, h)\n",
    "  \n",
    "  # convert output probabilities to predicted class (0 or 1)\n",
    "  pred = torch.round(output.squeeze()) \n",
    "  # printing output value, before rounding\n",
    "  print('Prediction value, pre-rounding: {:.6f}'.format(output.item()))\n",
    "  \n",
    "  # print custom response\n",
    "  if(pred.item()==1):\n",
    "      print(\"Positive review detected!\")\n",
    "  else:\n",
    "      print(\"Negative review detected.\")\n"
   ]
  },
  {
   "cell_type": "code",
   "execution_count": 63,
   "metadata": {
    "colab": {
     "base_uri": "https://localhost:8080/",
     "height": 84
    },
    "colab_type": "code",
    "id": "KTmcFRQ5IoZ1",
    "outputId": "040ade0f-fc1b-4f1e-b5cc-f8ee51e58cdb",
    "scrolled": true
   },
   "outputs": [
    {
     "name": "stdout",
     "output_type": "stream",
     "text": [
      "Prediction value, pre-rounding: 0.000245\n",
      "Negative review detected.\n",
      "Prediction value, pre-rounding: 0.998541\n",
      "Positive review detected!\n"
     ]
    }
   ],
   "source": [
    "test_review_neg = \"I'm not too sure about this one.\"\n",
    "test_review_pos = \"Was a bit skeptical at first. But the ending was great and I liked it!\"\n",
    "seq_length = 200 \n",
    "predict(net, test_review_neg, seq_length)\n",
    "predict(net, test_review_pos, seq_length)"
   ]
  },
  {
   "cell_type": "code",
   "execution_count": null,
   "metadata": {},
   "outputs": [],
   "source": [
    "# To predict on the CSV\n",
    "import csv\n",
    "def predict():\n",
    "    net.eval()\n",
    "    test_h = net.init_hidden(batch_size)\n",
    "    number_of_samples =0\n",
    "    correct_samples =0\n",
    "    with open('out.csv', 'w') as outFile:\n",
    "        writer = csv.writer(outFile)\n",
    "        first_row =[\"text\",\"label\",\"predict\"]\n",
    "        writer.writerow(first_row)\n",
    "        for inputs, labels in test_loader:\n",
    "            number_of_samples += len(inputs)\n",
    "            # Creating new variables for the hidden state, otherwise\n",
    "            # we'd backprop through the entire training history\n",
    "            test_h = tuple([each.data for each in test_h])\n",
    "\n",
    "            if(train_on_gpu):\n",
    "                inputs, labels = inputs.cuda(), labels.cuda()\n",
    "\n",
    "            output, test_h = net(inputs, test_h)\n",
    "            #print(output[0],labels.float()[0])\n",
    "            for i in range(len(output)):\n",
    "                row =[reviews_[i+22500],str(labels[i].item())]\n",
    "                if output[i]>=0.5:\n",
    "                    row.extend(\"1\")\n",
    "                else:\n",
    "                    row.extend(\"0\")    \n",
    "                writer.writerow(row)\n",
    "                if output[i] >=0.5 and labels[i] ==1:\n",
    "                    correct_samples+=1\n",
    "                if  output[i] <0.5 and labels[i] ==0:\n",
    "                    correct_samples+=1\n",
    "\n",
    "        outFile.close()\n",
    "        print(\"test_accuracy =\",100*(correct_samples /number_of_samples),\"%\" )            \n",
    "\n",
    "print(\"saved to out.csv\")\n",
    "predict()"
   ]
  }
 ],
 "metadata": {
  "accelerator": "GPU",
  "colab": {
   "name": "Untitled0.ipynb",
   "provenance": [],
   "toc_visible": true
  },
  "kernelspec": {
   "display_name": "Python 3",
   "language": "python",
   "name": "python3"
  },
  "language_info": {
   "codemirror_mode": {
    "name": "ipython",
    "version": 3
   },
   "file_extension": ".py",
   "mimetype": "text/x-python",
   "name": "python",
   "nbconvert_exporter": "python",
   "pygments_lexer": "ipython3",
   "version": "3.7.7"
  }
 },
 "nbformat": 4,
 "nbformat_minor": 1
}
